{
 "cells": [
  {
   "cell_type": "raw",
   "id": "9b29e87f",
   "metadata": {},
   "source": [
    "t = var('t')"
   ]
  },
  {
   "cell_type": "code",
   "execution_count": 3,
   "id": "c085b654",
   "metadata": {},
   "outputs": [
    {
     "data": {
      "text/html": [
       "<html>\\(\\displaystyle C e^{\\left(-k t\\right)}\\)</html>"
      ],
      "text/latex": [
       "$\\displaystyle C e^{\\left(-k t\\right)}$"
      ],
      "text/plain": [
       "_C*e^(-k*t)"
      ]
     },
     "metadata": {},
     "output_type": "display_data"
    }
   ],
   "source": [
    "t = var('t')\n",
    "x = function('x')(t)\n",
    "k = var('k')\n",
    "\n",
    "de = diff(x, t) == -k * x\n",
    "\n",
    "sol = desolve(de, x, ivar=t)\n",
    "show(sol)"
   ]
  },
  {
   "cell_type": "code",
   "execution_count": null,
   "id": "b9ea5710",
   "metadata": {},
   "outputs": [],
   "source": []
  }
 ],
 "metadata": {
  "kernelspec": {
   "display_name": "SageMath 10.2",
   "language": "sage",
   "name": "sagemath"
  },
  "language_info": {
   "codemirror_mode": {
    "name": "ipython",
    "version": 3
   },
   "file_extension": ".py",
   "mimetype": "text/x-python",
   "name": "python",
   "nbconvert_exporter": "python",
   "pygments_lexer": "ipython3",
   "version": "3.11.1"
  }
 },
 "nbformat": 4,
 "nbformat_minor": 5
}
